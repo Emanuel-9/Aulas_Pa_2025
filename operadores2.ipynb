{
  "nbformat": 4,
  "nbformat_minor": 0,
  "metadata": {
    "colab": {
      "provenance": [],
      "authorship_tag": "ABX9TyMQnbZVx81aFIIk/PwrnEIM",
      "include_colab_link": true
    },
    "kernelspec": {
      "name": "python3",
      "display_name": "Python 3"
    },
    "language_info": {
      "name": "python"
    }
  },
  "cells": [
    {
      "cell_type": "markdown",
      "metadata": {
        "id": "view-in-github",
        "colab_type": "text"
      },
      "source": [
        "<a href=\"https://colab.research.google.com/github/Emanuel-9/Aulas_Pa_2025/blob/main/operadores2.ipynb\" target=\"_parent\"><img src=\"https://colab.research.google.com/assets/colab-badge.svg\" alt=\"Open In Colab\"/></a>"
      ]
    },
    {
      "cell_type": "markdown",
      "source": [
        " # Calculo da media do aluno\n"
      ],
      "metadata": {
        "id": "tNsEf0VEgSbx"
      }
    },
    {
      "cell_type": "code",
      "source": [
        "p1 = float (input('digite a nota: '))\n",
        "p2 = float (input('digite a nota: '))\n",
        "media = (p1 + p2)/2\n",
        "print('A media é', media)"
      ],
      "metadata": {
        "colab": {
          "base_uri": "https://localhost:8080/"
        },
        "collapsed": true,
        "id": "gSdJcfUuhB4-",
        "outputId": "43536f90-951d-4315-e50b-225871ea97e7"
      },
      "execution_count": 55,
      "outputs": [
        {
          "output_type": "stream",
          "name": "stdout",
          "text": [
            "digite a nota: 1\n",
            "digite a nota: 1\n",
            "A media é 1.0\n"
          ]
        }
      ]
    },
    {
      "cell_type": "markdown",
      "source": [
        "# Valor de uma peça"
      ],
      "metadata": {
        "id": "yckgK_nRsFih"
      }
    },
    {
      "cell_type": "code",
      "source": [
        "valor = float (input('valor: '))\n",
        "qtde = float (input('quantidade: '))\n",
        "vt = qtde*valor\n",
        "print('o valor total é de', vt)"
      ],
      "metadata": {
        "colab": {
          "base_uri": "https://localhost:8080/"
        },
        "id": "f6MBb2vIp5sv",
        "outputId": "d71878c6-77ff-444f-f3d5-7b8beeec33dd"
      },
      "execution_count": 59,
      "outputs": [
        {
          "output_type": "stream",
          "name": "stdout",
          "text": [
            "valor: 5.50\n",
            "quantidade: 2\n",
            "o valor total é de 11.0\n"
          ]
        }
      ]
    },
    {
      "cell_type": "markdown",
      "source": [
        "##graus para farenheit"
      ],
      "metadata": {
        "id": "l8Gf-xnGxb-k"
      }
    },
    {
      "cell_type": "code",
      "source": [
        "gc = float (input('quantos graus '))\n",
        "fh = (gc*9/5)+32\n",
        "print('são', fh,'farenheit')"
      ],
      "metadata": {
        "colab": {
          "base_uri": "https://localhost:8080/"
        },
        "id": "0AIe4MXLtvwY",
        "outputId": "d609a356-396d-4fc2-ee20-11595b240227"
      },
      "execution_count": 83,
      "outputs": [
        {
          "output_type": "stream",
          "name": "stdout",
          "text": [
            "quantos graus 30\n",
            "são 86.0 farenheit\n"
          ]
        }
      ]
    },
    {
      "cell_type": "markdown",
      "source": [
        "## km para milhas"
      ],
      "metadata": {
        "id": "agJYr7V04X3U"
      }
    },
    {
      "cell_type": "code",
      "source": [
        "km = float (input('quantos km '))\n",
        "mlh = km/1.609344\n",
        "print(km,'são', mlh ,'milhas')"
      ],
      "metadata": {
        "colab": {
          "base_uri": "https://localhost:8080/"
        },
        "id": "6DnhhcK5zQqJ",
        "outputId": "3cdd6b7f-83b4-4b5f-afbd-c5feef1e7081"
      },
      "execution_count": 120,
      "outputs": [
        {
          "output_type": "stream",
          "name": "stdout",
          "text": [
            "quantos km 10\n",
            "10.0 são 6.2137119223733395 milhas\n"
          ]
        }
      ]
    }
  ]
}