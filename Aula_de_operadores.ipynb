{
  "nbformat": 4,
  "nbformat_minor": 0,
  "metadata": {
    "colab": {
      "provenance": [],
      "authorship_tag": "ABX9TyN2asdrpSVsZjtMxxG3sVOm",
      "include_colab_link": true
    },
    "kernelspec": {
      "name": "python3",
      "display_name": "Python 3"
    },
    "language_info": {
      "name": "python"
    }
  },
  "cells": [
    {
      "cell_type": "markdown",
      "metadata": {
        "id": "view-in-github",
        "colab_type": "text"
      },
      "source": [
        "<a href=\"https://colab.research.google.com/github/Emanuel-9/Aulas_Pa_2025/blob/main/Aula_de_operadores.ipynb\" target=\"_parent\"><img src=\"https://colab.research.google.com/assets/colab-badge.svg\" alt=\"Open In Colab\"/></a>"
      ]
    },
    {
      "cell_type": "markdown",
      "source": [
        "# Soma"
      ],
      "metadata": {
        "id": "pLWZ801Mgw6C"
      }
    },
    {
      "cell_type": "code",
      "execution_count": 1,
      "metadata": {
        "colab": {
          "base_uri": "https://localhost:8080/"
        },
        "id": "PM-iT4Gpdutn",
        "outputId": "5d882de2-2a78-4538-bef5-2ce087c6a799"
      },
      "outputs": [
        {
          "output_type": "execute_result",
          "data": {
            "text/plain": [
              "8"
            ]
          },
          "metadata": {},
          "execution_count": 1
        }
      ],
      "source": [
        "4+4"
      ]
    },
    {
      "cell_type": "markdown",
      "source": [
        "# subtraçao"
      ],
      "metadata": {
        "id": "EBFfclb_htC_"
      }
    },
    {
      "cell_type": "code",
      "source": [
        "3000-3000"
      ],
      "metadata": {
        "colab": {
          "base_uri": "https://localhost:8080/"
        },
        "id": "2hHXs5PEhvx3",
        "outputId": "57b467e8-ad5c-48f3-c382-059688048e9a"
      },
      "execution_count": 4,
      "outputs": [
        {
          "output_type": "execute_result",
          "data": {
            "text/plain": [
              "0"
            ]
          },
          "metadata": {},
          "execution_count": 4
        }
      ]
    },
    {
      "cell_type": "markdown",
      "source": [
        "# multiplicaçao"
      ],
      "metadata": {
        "id": "Z_B7SFeVh9He"
      }
    },
    {
      "cell_type": "code",
      "source": [
        "5*6"
      ],
      "metadata": {
        "colab": {
          "base_uri": "https://localhost:8080/"
        },
        "id": "frGemUjdiBHg",
        "outputId": "217883ef-f969-45c9-d639-bf27938442a7"
      },
      "execution_count": 5,
      "outputs": [
        {
          "output_type": "execute_result",
          "data": {
            "text/plain": [
              "30"
            ]
          },
          "metadata": {},
          "execution_count": 5
        }
      ]
    },
    {
      "cell_type": "markdown",
      "source": [
        "# divisao"
      ],
      "metadata": {
        "id": "SjVajv5TiF3m"
      }
    },
    {
      "cell_type": "code",
      "source": [
        "4/5"
      ],
      "metadata": {
        "colab": {
          "base_uri": "https://localhost:8080/"
        },
        "id": "4YtL0aKmiHmx",
        "outputId": "975bf3c3-7fd4-469a-9ee5-111265edcb99"
      },
      "execution_count": 6,
      "outputs": [
        {
          "output_type": "execute_result",
          "data": {
            "text/plain": [
              "0.8"
            ]
          },
          "metadata": {},
          "execution_count": 6
        }
      ]
    },
    {
      "cell_type": "markdown",
      "source": [
        "# Igualdade"
      ],
      "metadata": {
        "id": "sb9NgCCkicrP"
      }
    },
    {
      "cell_type": "code",
      "source": [
        "a = 4\n",
        "a==4"
      ],
      "metadata": {
        "colab": {
          "base_uri": "https://localhost:8080/"
        },
        "id": "VH76QqpHikEX",
        "outputId": "3a68e204-3230-4385-ab86-f105bc1bda22"
      },
      "execution_count": 10,
      "outputs": [
        {
          "output_type": "execute_result",
          "data": {
            "text/plain": [
              "False"
            ]
          },
          "metadata": {},
          "execution_count": 10
        }
      ]
    },
    {
      "cell_type": "markdown",
      "source": [
        "# expoente"
      ],
      "metadata": {
        "id": "kB_6YRCtjNy5"
      }
    },
    {
      "cell_type": "code",
      "source": [
        "4**2"
      ],
      "metadata": {
        "colab": {
          "base_uri": "https://localhost:8080/"
        },
        "id": "R2D-TuXHjRzn",
        "outputId": "bd099380-bcf4-4cc9-fdab-52427e449390"
      },
      "execution_count": 18,
      "outputs": [
        {
          "output_type": "execute_result",
          "data": {
            "text/plain": [
              "16"
            ]
          },
          "metadata": {},
          "execution_count": 18
        }
      ]
    },
    {
      "cell_type": "markdown",
      "source": [
        "Maior, Menor, maio ou igual e menor ou igual"
      ],
      "metadata": {
        "id": "56njrc9Gj4pO"
      }
    },
    {
      "cell_type": "code",
      "source": [
        "5>2"
      ],
      "metadata": {
        "colab": {
          "base_uri": "https://localhost:8080/"
        },
        "id": "B_MaQGL3kGP3",
        "outputId": "0bf06733-f0af-4a45-b2f9-ff9f13f183fa"
      },
      "execution_count": 20,
      "outputs": [
        {
          "output_type": "execute_result",
          "data": {
            "text/plain": [
              "True"
            ]
          },
          "metadata": {},
          "execution_count": 20
        }
      ]
    },
    {
      "cell_type": "code",
      "source": [
        "5>6"
      ],
      "metadata": {
        "colab": {
          "base_uri": "https://localhost:8080/"
        },
        "id": "owW4ifbDkwo9",
        "outputId": "3dc15ff6-c7e7-42c7-b8ef-f2a554d04307"
      },
      "execution_count": 21,
      "outputs": [
        {
          "output_type": "execute_result",
          "data": {
            "text/plain": [
              "False"
            ]
          },
          "metadata": {},
          "execution_count": 21
        }
      ]
    },
    {
      "cell_type": "code",
      "source": [
        "5<6"
      ],
      "metadata": {
        "colab": {
          "base_uri": "https://localhost:8080/"
        },
        "id": "x7GGtUj7lDRd",
        "outputId": "ce383c29-7a06-45bf-800c-0a7a8eb06680"
      },
      "execution_count": 22,
      "outputs": [
        {
          "output_type": "execute_result",
          "data": {
            "text/plain": [
              "True"
            ]
          },
          "metadata": {},
          "execution_count": 22
        }
      ]
    },
    {
      "cell_type": "code",
      "source": [
        "5<4"
      ],
      "metadata": {
        "colab": {
          "base_uri": "https://localhost:8080/"
        },
        "id": "fXYUFheHlNzX",
        "outputId": "4b9dfb5e-0cee-4d92-b4df-5d228a186f3e"
      },
      "execution_count": 23,
      "outputs": [
        {
          "output_type": "execute_result",
          "data": {
            "text/plain": [
              "False"
            ]
          },
          "metadata": {},
          "execution_count": 23
        }
      ]
    },
    {
      "cell_type": "code",
      "source": [
        "5>=5"
      ],
      "metadata": {
        "colab": {
          "base_uri": "https://localhost:8080/"
        },
        "id": "0MI0oYSUlox7",
        "outputId": "689bd79a-46c9-4fe1-e2d8-85eded9d2c6d"
      },
      "execution_count": 24,
      "outputs": [
        {
          "output_type": "execute_result",
          "data": {
            "text/plain": [
              "True"
            ]
          },
          "metadata": {},
          "execution_count": 24
        }
      ]
    },
    {
      "cell_type": "code",
      "source": [
        "5-6+8+15*(6/2)+4-9"
      ],
      "metadata": {
        "colab": {
          "base_uri": "https://localhost:8080/"
        },
        "id": "ipmyaRLembPr",
        "outputId": "b36a610a-cf3d-4580-bb92-e8a8a7277fe8"
      },
      "execution_count": 25,
      "outputs": [
        {
          "output_type": "execute_result",
          "data": {
            "text/plain": [
              "47.0"
            ]
          },
          "metadata": {},
          "execution_count": 25
        }
      ]
    },
    {
      "cell_type": "markdown",
      "source": [
        "# diferente"
      ],
      "metadata": {
        "id": "ewU47jRWnZRz"
      }
    },
    {
      "cell_type": "code",
      "source": [
        "a!=4"
      ],
      "metadata": {
        "colab": {
          "base_uri": "https://localhost:8080/"
        },
        "id": "6wl5jTbqnSTt",
        "outputId": "44e1aae4-06a7-492b-dcbc-e2713722e588"
      },
      "execution_count": 26,
      "outputs": [
        {
          "output_type": "execute_result",
          "data": {
            "text/plain": [
              "False"
            ]
          },
          "metadata": {},
          "execution_count": 26
        }
      ]
    },
    {
      "cell_type": "markdown",
      "source": [
        "# variaveis"
      ],
      "metadata": {
        "id": "Tc2EkPxmnrz6"
      }
    },
    {
      "cell_type": "code",
      "source": [
        "nome ='Emanuel'\n",
        "sobrenome = 'Prospero'\n",
        "\n",
        "print ('Meu nome é' + ' ' + nome + ' ' + ' ' +sobrenome)"
      ],
      "metadata": {
        "colab": {
          "base_uri": "https://localhost:8080/"
        },
        "id": "iUsntyytnuFD",
        "outputId": "1f23f21d-1c97-4951-a23c-483e8ac3f68d"
      },
      "execution_count": 41,
      "outputs": [
        {
          "output_type": "stream",
          "name": "stdout",
          "text": [
            "Meu nome é Emanuel  Prospero\n"
          ]
        }
      ]
    },
    {
      "cell_type": "code",
      "source": [
        "nome = str(input('digite seu nome:'))\n",
        "sobrenome = str(input('digite seu sobrenome: '))\n",
        "\n",
        "print('meu nome é ' + nome + ' ' + sobrenome)"
      ],
      "metadata": {
        "colab": {
          "base_uri": "https://localhost:8080/"
        },
        "id": "o_A6Tt_lp2xo",
        "outputId": "2dbbb6c2-3387-465e-9a03-1c7e01d7ff3f"
      },
      "execution_count": 48,
      "outputs": [
        {
          "output_type": "stream",
          "name": "stdout",
          "text": [
            "digite seu nome:Emanuel\n",
            "digite seu sobrenome: prospero\n",
            "meu nome é Emanuel prospero\n"
          ]
        }
      ]
    },
    {
      "cell_type": "code",
      "source": [
        "print (nome)"
      ],
      "metadata": {
        "colab": {
          "base_uri": "https://localhost:8080/"
        },
        "id": "JBY1PHE3tatl",
        "outputId": "d4e84df5-b1bc-40ff-ba54-41bedb756b99"
      },
      "execution_count": 49,
      "outputs": [
        {
          "output_type": "stream",
          "name": "stdout",
          "text": [
            "Emanuel\n"
          ]
        }
      ]
    },
    {
      "cell_type": "code",
      "source": [
        "#entrada\n",
        "lado = float(input('coloque lado: '))\n",
        "#processamento\n",
        "area = (lado * lado)\n",
        "#saida\n",
        "print(\"a area é\", area)"
      ],
      "metadata": {
        "colab": {
          "base_uri": "https://localhost:8080/"
        },
        "id": "saPtSCucvx8i",
        "outputId": "ea39e91b-18bb-478f-c916-905cbdbc89d3"
      },
      "execution_count": 66,
      "outputs": [
        {
          "output_type": "stream",
          "name": "stdout",
          "text": [
            "coloque lado: 3.5\n",
            "a area é 12.25\n"
          ]
        }
      ]
    }
  ]
}