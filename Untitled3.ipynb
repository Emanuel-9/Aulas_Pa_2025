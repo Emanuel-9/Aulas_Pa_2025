{
  "nbformat": 4,
  "nbformat_minor": 0,
  "metadata": {
    "colab": {
      "provenance": [],
      "authorship_tag": "ABX9TyOjPWVaDA5cMsqFvudHbohd",
      "include_colab_link": true
    },
    "kernelspec": {
      "name": "python3",
      "display_name": "Python 3"
    },
    "language_info": {
      "name": "python"
    }
  },
  "cells": [
    {
      "cell_type": "markdown",
      "metadata": {
        "id": "view-in-github",
        "colab_type": "text"
      },
      "source": [
        "<a href=\"https://colab.research.google.com/github/Emanuel-9/Aulas_Pa_2025/blob/main/Untitled3.ipynb\" target=\"_parent\"><img src=\"https://colab.research.google.com/assets/colab-badge.svg\" alt=\"Open In Colab\"/></a>"
      ]
    },
    {
      "cell_type": "code",
      "execution_count": null,
      "metadata": {
        "colab": {
          "base_uri": "https://localhost:8080/"
        },
        "id": "s_dInSaADbjG",
        "outputId": "fcc8071a-30e0-49a9-9599-902b3069bc79"
      },
      "outputs": [
        {
          "output_type": "stream",
          "name": "stdout",
          "text": [
            "digite um numero:4\n",
            "o numero par\n"
          ]
        }
      ],
      "source": [
        "num = int(input('digite um numero:'))\n",
        "if num % 2 == 0:\n",
        "   print('o numero par')\n",
        "else:\n",
        "    print('o numero é impar')\n"
      ]
    },
    {
      "cell_type": "code",
      "source": [
        "htg = str(input('digite um numero'))\n",
        "if htg == \"10\":\n",
        " print(\"ola 10\")\n",
        "else:\n",
        "  print('voce nao devia estar')"
      ],
      "metadata": {
        "colab": {
          "base_uri": "https://localhost:8080/"
        },
        "id": "YEatmgm7GEcV",
        "outputId": "252a66eb-d7e0-4fac-aa1f-9397c57e4631"
      },
      "execution_count": null,
      "outputs": [
        {
          "output_type": "stream",
          "name": "stdout",
          "text": [
            "digite um numero9\n",
            "voce nao devia estar\n"
          ]
        }
      ]
    },
    {
      "cell_type": "code",
      "source": [
        "ano = int(input(\"digite o ano\"))\n",
        "if ano % 4 == 0:\n",
        "    print('ano bissexto')\n",
        "else:\n",
        "    print('ano nao bissexto')"
      ],
      "metadata": {
        "colab": {
          "base_uri": "https://localhost:8080/"
        },
        "id": "_d-EdIUOLK4c",
        "outputId": "46df2ccb-6816-44e7-decf-73e9cff72ba8"
      },
      "execution_count": null,
      "outputs": [
        {
          "output_type": "stream",
          "name": "stdout",
          "text": [
            "digite o ano3434\n",
            "ano nao bissexto\n"
          ]
        }
      ]
    },
    {
      "cell_type": "code",
      "source": [
        "numero = int(input('me fala um numero: '))\n",
        "if numero%2 == 0:\n",
        "    print('numero par')\n",
        "else:\n",
        "    print('numero impar')"
      ],
      "metadata": {
        "colab": {
          "base_uri": "https://localhost:8080/"
        },
        "id": "S1MGq89hQwiR",
        "outputId": "f07d7b02-41bb-4c64-eaf5-c475e8b56583"
      },
      "execution_count": null,
      "outputs": [
        {
          "output_type": "stream",
          "name": "stdout",
          "text": [
            "me fala um numero: 3\n",
            "numero impar\n"
          ]
        }
      ]
    },
    {
      "cell_type": "code",
      "source": [
        "emn = int(input(\"primeira nota\"))\n",
        "dnl = int(input(\"segunda nota\"))\n",
        "gvn = int(input(\"terceira nota\"))\n",
        "media = gvn + emn + dnl % 3\n",
        "if media > 6:\n",
        "    print('aprovado')\n",
        "else:\n",
        "    print('reprovado')\n",
        "\n"
      ],
      "metadata": {
        "colab": {
          "base_uri": "https://localhost:8080/"
        },
        "id": "Ye9-PmAtM1bi",
        "outputId": "94c17ae9-e4b2-4d12-b9ff-e14ca5624adb"
      },
      "execution_count": null,
      "outputs": [
        {
          "output_type": "stream",
          "name": "stdout",
          "text": [
            "primeira nota2\n",
            "segunda nota2\n",
            "terceira nota2\n",
            "reprovado\n"
          ]
        }
      ]
    },
    {
      "cell_type": "code",
      "source": [
        "idade = int(input('digite sua idade'))\n",
        "if idade >=18:\n",
        "  print(\"idade permetida passe\")\n",
        "else:\n",
        "  print(\"idade nao permitida saia daqui\")"
      ],
      "metadata": {
        "colab": {
          "base_uri": "https://localhost:8080/"
        },
        "id": "e_G6Qaj5Vhh-",
        "outputId": "4df43aef-9d89-4b9f-a494-d56b446c7c1c"
      },
      "execution_count": null,
      "outputs": [
        {
          "output_type": "stream",
          "name": "stdout",
          "text": [
            "digite sua idade17\n",
            "idade nao permitida saia daqui\n"
          ]
        }
      ]
    },
    {
      "cell_type": "code",
      "source": [
        "multiplo = int(input('multiplo de 5'))\n",
        "if multiplo % 5 == 0:\n",
        "    print('aceito')\n",
        "else:\n",
        "    print('nao aceito')"
      ],
      "metadata": {
        "colab": {
          "base_uri": "https://localhost:8080/"
        },
        "id": "4EiO2K1AVkkd",
        "outputId": "c7553a7e-9b90-4ece-f0b5-2c4b94a4d061"
      },
      "execution_count": null,
      "outputs": [
        {
          "output_type": "stream",
          "name": "stdout",
          "text": [
            "multiplo de 57\n",
            "nao aceito\n"
          ]
        }
      ]
    },
    {
      "cell_type": "code",
      "source": [
        "numero = int(input(\"fala seu numero\"))\n",
        "if numero < 0:\n",
        "  print(\"o numero é negativo\")\n",
        "else:\n",
        "  print('seu numero é positivo parabens')\n",
        "\n",
        "\n"
      ],
      "metadata": {
        "colab": {
          "base_uri": "https://localhost:8080/"
        },
        "id": "if2O1Q79WI75",
        "outputId": "b889b48b-e20f-4ba4-b340-831f3e68aef0"
      },
      "execution_count": null,
      "outputs": [
        {
          "output_type": "stream",
          "name": "stdout",
          "text": [
            "fala seu numero0\n",
            "seu numero é positivo parabens\n"
          ]
        }
      ]
    },
    {
      "cell_type": "code",
      "source": [
        "nm = int(input(\"me diga um numero\"))\n",
        "dnl = (input(\"qual operaçao? (+ , -,/ ,*) \"))\n",
        "emn = int(input(\"me fale outro numero\"))\n",
        "\n",
        "if dnl ==\"+\":\n",
        " print(nm+emn)\n",
        "elif dnl ==\"-\":\n",
        " print(nm-emn)\n",
        "elif dnl ==\"*\":\n",
        "  print(nm*emn)\n",
        "elif dnl ==\"/\":\n",
        "  print(nm/emn)"
      ],
      "metadata": {
        "id": "oawrVT7UW8Yf",
        "colab": {
          "base_uri": "https://localhost:8080/"
        },
        "outputId": "c6aa540e-3fa9-47b6-d76b-19e2b9e4f202"
      },
      "execution_count": null,
      "outputs": [
        {
          "output_type": "stream",
          "name": "stdout",
          "text": [
            "me diga um numero10\n",
            "qual operaçao? (+ , -,/ ,*) -\n",
            "me fale outro numero10\n",
            "0\n"
          ]
        }
      ]
    },
    {
      "cell_type": "code",
      "source": [
        "for i in range(1,11):\n",
        " print (i)"
      ],
      "metadata": {
        "colab": {
          "base_uri": "https://localhost:8080/"
        },
        "id": "QjBKRHicGOjq",
        "outputId": "98694103-cbda-42dd-c1fd-acdb6f5ba9e1"
      },
      "execution_count": null,
      "outputs": [
        {
          "output_type": "stream",
          "name": "stdout",
          "text": [
            "1\n",
            "2\n",
            "3\n",
            "4\n",
            "5\n",
            "6\n",
            "7\n",
            "8\n",
            "9\n",
            "10\n"
          ]
        }
      ]
    },
    {
      "cell_type": "code",
      "source": [
        "emn = 11\n",
        "dsd = 10\n",
        "fpd = 9\n",
        "ppp = 8\n",
        "eee = 7\n",
        "fff = 6\n",
        "ddd = 5\n",
        "ccc = 4\n",
        "cdc = 3\n",
        "eml = 2\n",
        "print(emn - 1)\n",
        "print(dsd - 1)\n",
        "print(fpd - 1)\n",
        "print(ppp - 1)\n",
        "print(eee - 1)\n",
        "print(fff - 1)\n",
        "print(ddd - 1)\n",
        "print(ccc - 1)\n",
        "print(cdc - 1)\n",
        "print(eml - 1)"
      ],
      "metadata": {
        "colab": {
          "base_uri": "https://localhost:8080/"
        },
        "id": "gvYsWSj9MVMg",
        "outputId": "8a172a31-5550-4449-80ba-fd0313493392"
      },
      "execution_count": null,
      "outputs": [
        {
          "output_type": "stream",
          "name": "stdout",
          "text": [
            "10\n",
            "9\n",
            "8\n",
            "7\n",
            "6\n",
            "5\n",
            "4\n",
            "3\n",
            "2\n",
            "1\n"
          ]
        }
      ]
    },
    {
      "cell_type": "code",
      "source": [
        "nm = int(input(\"qual a multiplicaçao\"))"
      ],
      "metadata": {
        "id": "Z07pJG4pSmi3"
      },
      "execution_count": null,
      "outputs": []
    }
  ]
}