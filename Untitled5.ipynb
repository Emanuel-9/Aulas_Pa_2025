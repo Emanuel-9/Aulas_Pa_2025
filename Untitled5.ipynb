{
  "nbformat": 4,
  "nbformat_minor": 0,
  "metadata": {
    "colab": {
      "provenance": [],
      "authorship_tag": "ABX9TyOiD31iu6SUBtOplmIyTsaj",
      "include_colab_link": true
    },
    "kernelspec": {
      "name": "python3",
      "display_name": "Python 3"
    },
    "language_info": {
      "name": "python"
    }
  },
  "cells": [
    {
      "cell_type": "markdown",
      "metadata": {
        "id": "view-in-github",
        "colab_type": "text"
      },
      "source": [
        "<a href=\"https://colab.research.google.com/github/Emanuel-9/Aulas_Pa_2025/blob/main/Untitled5.ipynb\" target=\"_parent\"><img src=\"https://colab.research.google.com/assets/colab-badge.svg\" alt=\"Open In Colab\"/></a>"
      ]
    },
    {
      "cell_type": "code",
      "execution_count": 11,
      "metadata": {
        "colab": {
          "base_uri": "https://localhost:8080/"
        },
        "id": "aH0XYwb-GCol",
        "outputId": "d832e704-e277-4c76-e182-32cc63204800"
      },
      "outputs": [
        {
          "output_type": "stream",
          "name": "stdout",
          "text": [
            "me fala um numero3\n",
            "o numero é impar\n"
          ]
        }
      ],
      "source": [
        "num = int(input(\"me fala um numero\"))\n",
        "if num % 2 == 0:\n",
        "  print('o numero é par')\n",
        "else:\n",
        "  print(\"o numero é impar\")"
      ]
    },
    {
      "cell_type": "code",
      "source": [
        "num = int(input(\"me fala um numero \"))\n",
        "if num <0:\n",
        "  print(\"seu numero é negativo \")\n",
        "elif num ==0:\n",
        " print(\"seu numero é 0 \")\n",
        "else:\n",
        "  print(\"seu numero é positivo \")"
      ],
      "metadata": {
        "colab": {
          "base_uri": "https://localhost:8080/"
        },
        "id": "z-WgKkRzHVuz",
        "outputId": "c739f222-adc2-4fe4-c5f3-3ed2b28a097f"
      },
      "execution_count": 35,
      "outputs": [
        {
          "output_type": "stream",
          "name": "stdout",
          "text": [
            "me fala um numero 4\n",
            "seu numero é positivo \n"
          ]
        }
      ]
    },
    {
      "cell_type": "code",
      "source": [
        "emn = str(input(\"qual sua idade\"))\n",
        "if emn  <\"18\":\n",
        "  print(\"voce é menor acesso negado\")\n",
        "else:\n",
        "  print(\"entrada permitida\")"
      ],
      "metadata": {
        "colab": {
          "base_uri": "https://localhost:8080/"
        },
        "id": "4YVrBnWGJO50",
        "outputId": "c49ae03b-811c-43b0-e6a8-c3c56c087411"
      },
      "execution_count": 41,
      "outputs": [
        {
          "output_type": "stream",
          "name": "stdout",
          "text": [
            "qual sua idade18\n",
            "entrada permitida\n"
          ]
        }
      ]
    },
    {
      "cell_type": "code",
      "source": [
        "emn = int(input(\"me fale uma senha \"))\n",
        "if emn == 1234:\n",
        " print(\"senha correta\")\n",
        "else:\n",
        "  print(\"Senha errada\")"
      ],
      "metadata": {
        "colab": {
          "base_uri": "https://localhost:8080/"
        },
        "id": "FnGpdyOEMj_W",
        "outputId": "c96e21fc-ea7a-41fc-c0f3-255e9cdd055c"
      },
      "execution_count": 52,
      "outputs": [
        {
          "output_type": "stream",
          "name": "stdout",
          "text": [
            "me fale uma senha 1234\n",
            "senha correta\n"
          ]
        }
      ]
    },
    {
      "cell_type": "code",
      "source": [
        "emn = int(input(\"qual sua nota \"))\n",
        "\n",
        "if emn >=11:\n",
        " print(\"invalidado\")\n",
        "elif emn  >=6:\n",
        " print(\"aprovado\")\n",
        "else:\n",
        "  print(\"reprovado\")"
      ],
      "metadata": {
        "colab": {
          "base_uri": "https://localhost:8080/"
        },
        "id": "BH4_jECIK3rh",
        "outputId": "d6be5450-307b-4793-c92c-438d786f0565"
      },
      "execution_count": 86,
      "outputs": [
        {
          "output_type": "stream",
          "name": "stdout",
          "text": [
            "qual sua nota 11\n",
            "invalidado\n"
          ]
        }
      ]
    },
    {
      "cell_type": "code",
      "source": [
        "emn = int(input(\"me fala um numero \"))\n",
        "if emn >20:\n",
        "   print(\"seu numero nao esta no intervalo\")\n",
        "elif emn <10 :\n",
        "  print(\"seu numero nao esta no intervalo \")\n",
        "else:\n",
        " print(\"seu numero esta no intervalo\")"
      ],
      "metadata": {
        "colab": {
          "base_uri": "https://localhost:8080/"
        },
        "id": "P4kDxMkQM378",
        "outputId": "0875e1d4-19ea-4ca2-fada-bb467d162097"
      },
      "execution_count": 106,
      "outputs": [
        {
          "output_type": "stream",
          "name": "stdout",
          "text": [
            "me fala um numero 10\n",
            "seu numero esta no intervalo\n"
          ]
        }
      ]
    },
    {
      "cell_type": "code",
      "source": [
        "multiplo = int(input('é multiplo de 3? '))\n",
        "if multiplo % 3 == 0:\n",
        "    print('sim')\n",
        "else:\n",
        "    print('nao')"
      ],
      "metadata": {
        "colab": {
          "base_uri": "https://localhost:8080/"
        },
        "id": "4EiO2K1AVkkd",
        "outputId": "34c940a8-df09-4abe-ad1c-5c6bfaf94ab2"
      },
      "execution_count": 92,
      "outputs": [
        {
          "output_type": "stream",
          "name": "stdout",
          "text": [
            "é multiplo de 3? 121\n",
            "nao\n"
          ]
        }
      ]
    },
    {
      "cell_type": "code",
      "source": [
        "emn = float(input(\"me fala um lado \"))\n",
        "nme = float(input(\"me fala outro lado \"))\n",
        "mne = float(input(\"me fala o ultimo lado \"))\n",
        "if emn == nme == mne:\n",
        "  print(\"Seu triangulo é equilatero\")\n",
        "elif emn != nme != mne:\n",
        "  print(\"Seu triangulo é escaleno\")\n",
        "elif (emn == nme != mne) or (emn != nme == mne):\n",
        " print(\"eu triangulo é isoceles\")\n",
        "else:\n",
        "  print(\"nao deu\")"
      ],
      "metadata": {
        "colab": {
          "base_uri": "https://localhost:8080/"
        },
        "id": "RK2yXZ1CV05F",
        "outputId": "f740fe6b-6eea-4dc1-ee0e-3e258f63b776"
      },
      "execution_count": 119,
      "outputs": [
        {
          "output_type": "stream",
          "name": "stdout",
          "text": [
            "me fala um lado 2\n",
            "me fala outro lado 2\n",
            "me fala o ultimo lado 2\n",
            "Seu triangulo é equilatero\n"
          ]
        }
      ]
    }
  ]
}